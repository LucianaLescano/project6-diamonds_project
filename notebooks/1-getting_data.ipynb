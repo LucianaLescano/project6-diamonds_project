{
 "cells": [
  {
   "cell_type": "code",
   "execution_count": 1,
   "metadata": {},
   "outputs": [],
   "source": [
    "import pandas as pd"
   ]
  },
  {
   "cell_type": "markdown",
   "metadata": {},
   "source": [
    "# Getting all the information from Kaggle\n",
    "\n",
    "Downloading the Diamonds dataset."
   ]
  },
  {
   "cell_type": "code",
   "execution_count": 2,
   "metadata": {},
   "outputs": [
    {
     "name": "stdout",
     "output_type": "stream",
     "text": [
      "Warning: Your Kaggle API key is readable by other users on this system! To fix this, you can run 'chmod 600 /Users/lucianalescano/.kaggle/kaggle.json'\n",
      "Downloading diamonds-datamad1020-rev.zip to /Users/lucianalescano/Ironhack/Meanwhile/project6-diamonds_project/notebooks\n",
      "100%|████████████████████████████████████████| 998k/998k [00:00<00:00, 1.30MB/s]\n",
      "100%|████████████████████████████████████████| 998k/998k [00:00<00:00, 1.30MB/s]\n"
     ]
    }
   ],
   "source": [
    "!kaggle competitions download -c diamonds-datamad1020-rev"
   ]
  },
  {
   "cell_type": "code",
   "execution_count": 4,
   "metadata": {},
   "outputs": [
    {
     "name": "stdout",
     "output_type": "stream",
     "text": [
      "x sample_submission.csv\n",
      "x test.csv\n",
      "x train.csv\n"
     ]
    }
   ],
   "source": [
    "!tar -xzvf diamonds-datamad1020-rev.zip"
   ]
  },
  {
   "cell_type": "code",
   "execution_count": 6,
   "metadata": {},
   "outputs": [],
   "source": [
    "!mv ../notebooks/sample_submission.csv ../data/sample_submission.csv"
   ]
  },
  {
   "cell_type": "code",
   "execution_count": 7,
   "metadata": {},
   "outputs": [],
   "source": [
    "!mv ../notebooks/test.csv ../data/test.csv"
   ]
  },
  {
   "cell_type": "code",
   "execution_count": 8,
   "metadata": {},
   "outputs": [],
   "source": [
    "!mv ../notebooks/train.csv ../data/train.csv"
   ]
  },
  {
   "cell_type": "code",
   "execution_count": 10,
   "metadata": {},
   "outputs": [],
   "source": [
    "!rm diamonds-datamad1020-rev.zip"
   ]
  }
 ],
 "metadata": {
  "kernelspec": {
   "display_name": "Python 3",
   "language": "python",
   "name": "python3"
  },
  "language_info": {
   "codemirror_mode": {
    "name": "ipython",
    "version": 3
   },
   "file_extension": ".py",
   "mimetype": "text/x-python",
   "name": "python",
   "nbconvert_exporter": "python",
   "pygments_lexer": "ipython3",
   "version": "3.9.0"
  }
 },
 "nbformat": 4,
 "nbformat_minor": 4
}
